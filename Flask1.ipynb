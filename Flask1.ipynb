{
 "cells": [
  {
   "cell_type": "code",
   "execution_count": null,
   "id": "8f47f7df-e8ab-44eb-abff-6da8712844a2",
   "metadata": {},
   "outputs": [],
   "source": [
    "Q1. What is Flask Framework? What are the advantages of Flask Framework?"
   ]
  },
  {
   "cell_type": "code",
   "execution_count": null,
   "id": "ac86dde2-e697-47ee-90f2-bcf1ff951fb5",
   "metadata": {},
   "outputs": [],
   "source": [
    "Flask is a micro web framework written in Python. It is classified as a micro-framework because it does not require particular tools or libraries, and it has no database abstraction layer, form validation, or any other components where pre-existing third-party libraries provide common functions.\n",
    "\n",
    "The advantages of Flask are:\n",
    "\n",
    "Lightweight: Flask is a lightweight framework, which means it has a small code base and doesn't require much setup or configuration. This makes it easy to get started with and reduces the overhead of building web applications.\n",
    "\n",
    "Flexibility: Flask provides a lot of flexibility in terms of how you can structure your application and what components you use. This means you can build your application the way you want, using the components that make the most sense for your use case.\n",
    "\n",
    "Easy to learn: Flask has a simple and intuitive API that is easy to learn, even for beginners. It is also well-documented, with a large community of users and developers who can provide support and guidance.\n",
    "\n",
    "Extensible: Flask is highly extensible and can be easily customized to meet your specific needs. It provides a lot of hooks and extension points that allow you to add new functionality and integrate with other tools and libraries.\n",
    "\n",
    "Ideal for small to medium-sized applications: Flask is ideal for building small to medium-sized web applications. It can be used to build more complex applications as well, but it may not be the best choice for very large-scale applications due to its lightweight nature.\n",
    "\n",
    "In summary, Flask is a lightweight and flexible web framework that is easy to learn and ideal for building small to medium-sized web applications. Its advantages include its simplicity, flexibility, extensibility, and strong community support.\n",
    "\n",
    "\n",
    "\n",
    "\n"
   ]
  },
  {
   "cell_type": "code",
   "execution_count": null,
   "id": "488ffe95-bd0e-424a-8827-64bf3f190fd0",
   "metadata": {},
   "outputs": [],
   "source": [
    "Q2. Create a simple Flask application to display ‘Hello World!!’. Attach the screenshot of the output in\n",
    "Jupyter Notebook."
   ]
  },
  {
   "cell_type": "code",
   "execution_count": null,
   "id": "f3116fb7-f5ea-484f-b544-96f781022522",
   "metadata": {},
   "outputs": [],
   "source": [
    "from flask import Flask\n",
    "\n",
    "app = Flask(__name__)\n",
    "\n",
    "@app.route('/')\n",
    "def hello_world():\n",
    "    return 'Hello World!!'\n",
    "\n",
    "if __name__ == '__main__':\n",
    "    app.run()\n"
   ]
  },
  {
   "cell_type": "code",
   "execution_count": null,
   "id": "e4545ee7-b86c-4d50-8b32-a8999c619610",
   "metadata": {},
   "outputs": [],
   "source": [
    "Q3. What is App routing in Flask? Why do we use app routes?"
   ]
  },
  {
   "cell_type": "code",
   "execution_count": null,
   "id": "fc852265-9aaa-4664-b984-7c5a82fc585d",
   "metadata": {},
   "outputs": [],
   "source": [
    "In Flask, app routing refers to the process of defining URL routes in your application, and mapping those routes to specific functions that handle incoming requests. This is done using the @app.route() decorator, which is used to bind a function to a URL route.\n",
    "\n",
    "We use app routes in Flask to define the structure and behavior of our web application. By defining routes, we can control how users navigate our application and what content they see. App routes also allow us to map incoming requests to specific functions or methods in our code, which allows us to handle those requests and generate appropriate responses.\n",
    "\n",
    "In summary, app routing is a core feature of Flask that allows us to define URL routes and map them to specific functions in our code. We use app routes to structure our application and handle incoming requests from users."
   ]
  },
  {
   "cell_type": "code",
   "execution_count": null,
   "id": "aaf0675e-ecfd-4e1b-9b35-0b84e795c054",
   "metadata": {},
   "outputs": [],
   "source": [
    "Q4. Create a “/welcome” route to display the welcome message “Welcome to ABC Corporation” and a “/”\n",
    "route to show the following details:\n",
    "Company Name: ABC Corporation\n",
    "Location: India\n",
    "Contact Detail: 999-999-9999"
   ]
  },
  {
   "cell_type": "code",
   "execution_count": null,
   "id": "39e50068-a498-42e0-9384-beb1ca687982",
   "metadata": {},
   "outputs": [],
   "source": [
    "from flask import Flask\n",
    "\n",
    "app = Flask(__name__)\n",
    "\n",
    "@app.route('/welcome')\n",
    "def welcome():\n",
    "    return 'Welcome to ABC Corporation'\n",
    "\n",
    "@app.route('/')\n",
    "def home():\n",
    "    return 'Company Name: ABC Corporation<br>Location: India<br>Contact Detail: 999-999-9999'\n",
    "\n",
    "if __name__ == '__main__':\n",
    "    app.run()\n"
   ]
  },
  {
   "cell_type": "code",
   "execution_count": null,
   "id": "ba409d0c-a8e4-4d8e-b216-b039b996714a",
   "metadata": {},
   "outputs": [],
   "source": [
    "Q5. What function is used in Flask for URL Building? Write a Python code to demonstrate the working of the\n",
    "url_for() function."
   ]
  },
  {
   "cell_type": "code",
   "execution_count": null,
   "id": "7a365833-a412-4c59-b218-3cea9f4174a7",
   "metadata": {},
   "outputs": [],
   "source": [
    "In Flask, the url_for() function is used for URL building. This function generates a URL for the given endpoint (i.e., the name of the function that handles a specific route) with the optional method (default is 'GET').\n",
    "\n",
    "from flask import Flask, url_for\n",
    "\n",
    "app = Flask(__name__)\n",
    "\n",
    "@app.route('/')\n",
    "def home():\n",
    "    return 'Welcome to ABC Corporation'\n",
    "\n",
    "@app.route('/contact')\n",
    "def contact():\n",
    "    return 'Contact us at: 999-999-9999'\n",
    "\n",
    "@app.route('/user/<username>')\n",
    "def user_profile(username):\n",
    "    return 'Hello, %s!' % username\n",
    "\n",
    "if __name__ == '__main__':\n",
    "    with app.test_request_context():\n",
    "        print(url_for('home'))  # Output: \"/\"\n",
    "        print(url_for('contact'))  # Output: \"/contact\"\n",
    "        print(url_for('user_profile', username='John'))  # Output: \"/user/John\"\n"
   ]
  },
  {
   "cell_type": "code",
   "execution_count": null,
   "id": "7344e20e-ce20-436e-9ae6-d5bb0901618c",
   "metadata": {},
   "outputs": [],
   "source": []
  }
 ],
 "metadata": {
  "kernelspec": {
   "display_name": "Python 3 (ipykernel)",
   "language": "python",
   "name": "python3"
  },
  "language_info": {
   "codemirror_mode": {
    "name": "ipython",
    "version": 3
   },
   "file_extension": ".py",
   "mimetype": "text/x-python",
   "name": "python",
   "nbconvert_exporter": "python",
   "pygments_lexer": "ipython3",
   "version": "3.10.8"
  }
 },
 "nbformat": 4,
 "nbformat_minor": 5
}
